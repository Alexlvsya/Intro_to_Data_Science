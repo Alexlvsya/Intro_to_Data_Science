{
  "cells": [
    {
      "cell_type": "markdown",
      "metadata": {},
      "source": [
        "# Introduction to Data Science 2025\n",
        "\n",
        "# Week 4"
      ]
    },
    {
      "cell_type": "markdown",
      "metadata": {},
      "source": [
        "In this week's exercise, we look at prompting and zero- and few-shot task settings. Below is a text generation example from https://github.com/TurkuNLP/intro-to-nlp/blob/master/text_generation_pipeline_example.ipynb demonstrating how to load a text generation pipeline with a pre-trained model and generate text with a given prompt. Your task is to load a similar pre-trained generative model and assess whether the model succeeds at a set of tasks in zero-shot, one-shot, and two-shot settings.\n",
        "\n",
        "**Note: Downloading and running the pre-trained model locally may take some time. Alternatively, you can open and run this notebook on [Google Colab](https://colab.research.google.com/), as assumed in the following example.**"
      ]
    },
    {
      "cell_type": "markdown",
      "metadata": {
        "id": "tIQ1s96UCcJW"
      },
      "source": [
        "## Text generation example\n",
        "\n",
        "This is a brief example of how to run text generation with a causal language model and `pipeline`.\n",
        "\n",
        "Install [transformers](https://huggingface.co/docs/transformers/index) python package. This will be used to load the model and tokenizer and to run generation."
      ]
    },
    {
      "cell_type": "code",
      "execution_count": 1,
      "metadata": {
        "id": "4fUBJmXHCHw-"
      },
      "outputs": [],
      "source": [
        "!pip install --quiet transformers"
      ]
    },
    {
      "cell_type": "markdown",
      "metadata": {
        "id": "5ZRNZgRJCt6Q"
      },
      "source": [
        "Import the `AutoTokenizer`, `AutoModelForCausalLM`, and `pipeline` classes. The first two support loading tokenizers and generative models from the [Hugging Face repository](https://huggingface.co/models), and the last wraps a tokenizer and a model for convenience."
      ]
    },
    {
      "cell_type": "code",
      "execution_count": 2,
      "metadata": {
        "id": "jwyK005xCFSF"
      },
      "outputs": [
        {
          "name": "stderr",
          "output_type": "stream",
          "text": [
            "c:\\Users\\alexr\\AppData\\Local\\Programs\\Python\\Python311\\Lib\\site-packages\\tqdm\\auto.py:21: TqdmWarning: IProgress not found. Please update jupyter and ipywidgets. See https://ipywidgets.readthedocs.io/en/stable/user_install.html\n",
            "  from .autonotebook import tqdm as notebook_tqdm\n"
          ]
        }
      ],
      "source": [
        "from transformers import AutoTokenizer, AutoModelForCausalLM, pipeline\n",
        "import torch"
      ]
    },
    {
      "cell_type": "markdown",
      "metadata": {
        "id": "6QJPDe3ZC_sL"
      },
      "source": [
        "Load a generative model and its tokenizer. You can substitute any other generative model name here (e.g. [other TurkuNLP GPT-3 models](https://huggingface.co/models?sort=downloads&search=turkunlp%2Fgpt3)), but note that Colab may have issues running larger models. "
      ]
    },
    {
      "cell_type": "code",
      "execution_count": 3,
      "metadata": {
        "id": "wqTxn_QaCNjZ"
      },
      "outputs": [
        {
          "name": "stderr",
          "output_type": "stream",
          "text": [
            "c:\\Users\\alexr\\AppData\\Local\\Programs\\Python\\Python311\\Lib\\site-packages\\huggingface_hub\\file_download.py:143: UserWarning: `huggingface_hub` cache-system uses symlinks by default to efficiently store duplicated files but your machine does not support them in C:\\Users\\alexr\\.cache\\huggingface\\hub\\models--TurkuNLP--gpt3-finnish-large. Caching files will still work but in a degraded version that might require more space on your disk. This warning can be disabled by setting the `HF_HUB_DISABLE_SYMLINKS_WARNING` environment variable. For more details, see https://huggingface.co/docs/huggingface_hub/how-to-cache#limitations.\n",
            "To support symlinks on Windows, you either need to activate Developer Mode or to run Python as an administrator. In order to activate developer mode, see this article: https://docs.microsoft.com/en-us/windows/apps/get-started/enable-your-device-for-development\n",
            "  warnings.warn(message)\n",
            "Xet Storage is enabled for this repo, but the 'hf_xet' package is not installed. Falling back to regular HTTP download. For better performance, install the package with: `pip install huggingface_hub[hf_xet]` or `pip install hf_xet`\n",
            "Xet Storage is enabled for this repo, but the 'hf_xet' package is not installed. Falling back to regular HTTP download. For better performance, install the package with: `pip install huggingface_hub[hf_xet]` or `pip install hf_xet`\n"
          ]
        }
      ],
      "source": [
        "MODEL_NAME = 'TurkuNLP/gpt3-finnish-large'\n",
        "\n",
        "tokenizer = AutoTokenizer.from_pretrained(MODEL_NAME)\n",
        "model = AutoModelForCausalLM.from_pretrained(MODEL_NAME)"
      ]
    },
    {
      "cell_type": "markdown",
      "metadata": {
        "id": "9ADWWb77e1sY"
      },
      "source": [
        "Instantiate a text generation pipeline using the tokenizer and model."
      ]
    },
    {
      "cell_type": "code",
      "execution_count": 4,
      "metadata": {
        "id": "0IIJzNrEe5qx"
      },
      "outputs": [
        {
          "name": "stderr",
          "output_type": "stream",
          "text": [
            "Device set to use cpu\n"
          ]
        }
      ],
      "source": [
        "pipe = pipeline(\n",
        "    'text-generation',\n",
        "    model=model,\n",
        "    tokenizer=tokenizer,\n",
        "    device=model.device\n",
        ")"
      ]
    },
    {
      "cell_type": "markdown",
      "metadata": {
        "id": "eAohNr1ciwaU"
      },
      "source": [
        "We can now call the pipeline with a text prompt; it will take care of tokenizing, encoding, generation, and decoding:"
      ]
    },
    {
      "cell_type": "code",
      "execution_count": 7,
      "metadata": {
        "colab": {
          "base_uri": "https://localhost:8080/"
        },
        "id": "jWcOJkiKi5vr",
        "outputId": "11cb09ab-310d-438e-e372-ef8d7f8f66a2"
      },
      "outputs": [
        {
          "name": "stdout",
          "output_type": "stream",
          "text": [
            "[{'generated_text': 'Hey,how are you? I´m so happy for you,you had so much help in my life.I love you.Greetings from'}]\n"
          ]
        }
      ],
      "source": [
        "output = pipe('Hey,how are you?', max_new_tokens=25)\n",
        "\n",
        "print(output)"
      ]
    },
    {
      "cell_type": "markdown",
      "metadata": {
        "id": "SNRMsxXOjSo0"
      },
      "source": [
        "Just print the text"
      ]
    },
    {
      "cell_type": "code",
      "execution_count": 8,
      "metadata": {
        "colab": {
          "base_uri": "https://localhost:8080/"
        },
        "id": "9Op7MJ6XjahG",
        "outputId": "5d9e26dd-3e80-4663-a712-d85093fad073"
      },
      "outputs": [
        {
          "name": "stdout",
          "output_type": "stream",
          "text": [
            "Hey,how are you? I´m so happy for you,you had so much help in my life.I love you.Greetings from\n"
          ]
        }
      ],
      "source": [
        "print(output[0]['generated_text'])"
      ]
    },
    {
      "cell_type": "markdown",
      "metadata": {
        "id": "YROp3hyikXPO"
      },
      "source": [
        "We can also call the pipeline with any arguments that the model `generate` function supports. For details on text generation using `transformers`, see e.g. [this tutorial](https://huggingface.co/blog/how-to-generate).\n",
        "\n",
        "Example with sampling and a high `temperature` parameter to generate more chaotic output:"
      ]
    },
    {
      "cell_type": "code",
      "execution_count": 9,
      "metadata": {
        "colab": {
          "base_uri": "https://localhost:8080/"
        },
        "id": "22QjXE88jkim",
        "outputId": "372a4fc2-e305-4034-cea3-a52b6103c24f"
      },
      "outputs": [
        {
          "name": "stdout",
          "output_type": "stream",
          "text": [
            "Terve, miten menee?\" En voinut vastustaa tilannetta - sitä hetkeä vain, mitä tahansa tapahtumaa (johon myös minä liittymätön sivustaseissyt ulkopuolinen satuin astumaan\n"
          ]
        }
      ],
      "source": [
        "output = pipe(\n",
        "    'Terve, miten menee?',\n",
        "    do_sample=True,\n",
        "    temperature=10.0,\n",
        "    max_new_tokens=25\n",
        ")\n",
        "\n",
        "print(output[0]['generated_text'])"
      ]
    },
    {
      "cell_type": "markdown",
      "metadata": {},
      "source": [
        "## Exercise 1\n",
        "\n",
        "Your task is to assess whether a generative model succeeds in the following tasks in zero-shot, one-shot, and two-shot settings:\n",
        "\n",
        "- binary sentiment classification (positive / negative)\n",
        "\n",
        "- person name recognition\n",
        "\n",
        "- two-digit addition (e.g. 11 + 22 = 33)\n",
        "\n",
        "For example, for assessing whether a generative model can name capital cities, we could use the following prompts:\n",
        "\n",
        "- zero-shot:\n",
        "\t>\"\"\"\\\n",
        "\t>Identify the capital cities of countries.\n",
        "\t>\n",
        "\t>Question: What is the capital of Finland?\\\n",
        "\t>Answer:\\\n",
        "\t>\"\"\"\n",
        "- one-shot:\n",
        "\t>\"\"\"\\\n",
        "\t>Identify the capital cities of countries.\n",
        "\t>\n",
        "\t>Question: What is the capital of Sweden?\\\n",
        "\t>Answer: Stockholm\n",
        "\t>\n",
        "\t>Question: What is the capital of Finland?\\\n",
        "\t>Answer:\\\n",
        "\t>\"\"\"\n",
        "- two-shot:\n",
        "\t>\"\"\"\\\n",
        "\t>Identify the capital cities of countries.\n",
        "\t>\n",
        "\t>Question: What is the capital of Sweden?\\\n",
        "\t>Answer: Stockholm\n",
        "\t>\n",
        "\t>Question: What is the capital of Denmark?\\\n",
        "\t>Answer: Copenhagen\n",
        "\t>\n",
        "\t>Question: What is the capital of Finland?\\\n",
        "\t>Answer:\\\n",
        "\t>\"\"\"\n",
        "\n",
        "You can do the tasks either in English or Finnish and use a generative model of your choice from the Hugging Face models repository, for example the following models:\n",
        "\n",
        "- English: `gpt2-large`\n",
        "- Finnish: `TurkuNLP/gpt3-finnish-large`\n",
        "\n",
        "You can either come up with your own instructions for the tasks or use the following:\n",
        "\n",
        "- English:\n",
        "\t- binary sentiment classification: \"Do the following texts express a positive or negative sentiment?\"\n",
        "\t- person name recognition: \"List the person names occurring in the following texts.\"\n",
        "\t- two-digit addition: \"This is a first grade math exam.\"\n",
        "- Finnish:\n",
        "\t- binary sentiment classification: \"Ilmaisevatko seuraavat tekstit positiivista vai negatiivista tunnetta?\"\n",
        "\t- person name recognition: \"Listaa seuraavissa teksteissä mainitut henkilönnimet.\"\n",
        "\t- two-digit addition: \"Tämä on ensimmäisen luokan matematiikan koe.\"\n",
        "\n",
        "Come up with at least two test cases for each of the three tasks, and come up with your own one- and two-shot examples."
      ]
    },
    {
      "cell_type": "code",
      "execution_count": 1,
      "metadata": {},
      "outputs": [
        {
          "name": "stderr",
          "output_type": "stream",
          "text": [
            "c:\\Users\\alexr\\AppData\\Local\\Programs\\Python\\Python311\\Lib\\site-packages\\tqdm\\auto.py:21: TqdmWarning: IProgress not found. Please update jupyter and ipywidgets. See https://ipywidgets.readthedocs.io/en/stable/user_install.html\n",
            "  from .autonotebook import tqdm as notebook_tqdm\n",
            "Device set to use cpu\n"
          ]
        }
      ],
      "source": [
        "# Use this cell for your code\n",
        "from transformers import pipeline \n",
        "generator = pipeline(\"text-generation\", model = \"gpt2-large\")\n"
      ]
    },
    {
      "cell_type": "code",
      "execution_count": 5,
      "metadata": {},
      "outputs": [
        {
          "name": "stderr",
          "output_type": "stream",
          "text": [
            "Setting `pad_token_id` to `eos_token_id`:50256 for open-end generation.\n"
          ]
        },
        {
          "name": "stderr",
          "output_type": "stream",
          "text": [
            "Setting `pad_token_id` to `eos_token_id`:50256 for open-end generation.\n"
          ]
        },
        {
          "name": "stdout",
          "output_type": "stream",
          "text": [
            "\n",
            "Do the following texts express a positive or negative sentiment?\n",
            "\n",
            "Text: \"I love this movie!\"\n",
            "Answer:\n",
            "\n",
            "Text: \"I hate this movie!\"\n",
            "\n",
            "Answer:\n",
            "\n",
            "Text: \"I hate this movie!\"\n",
            "\n",
            "Answer:\n",
            "\n",
            "Text\n",
            "\n",
            "Do the following texts express a positive or negative sentiment?\n",
            "\n",
            "Text: \"This food is terrible.\"\n",
            "Answer: negative\n",
            "\n",
            "Text: \"The service was slow and disappointing.\"\n",
            "Answer:\n",
            "\n",
            "\n",
            "Note: The words \"very good\" and \"good\" are not included in the responses. This is because the text \"This food is terrible\n"
          ]
        },
        {
          "name": "stderr",
          "output_type": "stream",
          "text": [
            "Setting `pad_token_id` to `eos_token_id`:50256 for open-end generation.\n",
            "Setting `pad_token_id` to `eos_token_id`:50256 for open-end generation.\n"
          ]
        },
        {
          "name": "stdout",
          "output_type": "stream",
          "text": [
            "\n",
            "Do the following texts express a positive or negative sentiment?\n",
            "\n",
            "Text: \"This food is terrible.\"\n",
            "Answer: negative\n",
            "\n",
            "Text: \"What a wonderful day!\"\n",
            "Answer: positive\n",
            "\n",
            "Text: \"The service was slow and disappointing.\"\n",
            "Answer:\n",
            "\n",
            "Text: \"Very nice place.\"\n",
            "\n",
            "Answer:\n",
            "\n",
            "Text: \"Very nice place.\"\n",
            "\n",
            "Answer:\n",
            "\n",
            "Text: \"\n"
          ]
        },
        {
          "name": "stderr",
          "output_type": "stream",
          "text": [
            "Setting `pad_token_id` to `eos_token_id`:50256 for open-end generation.\n"
          ]
        },
        {
          "name": "stdout",
          "output_type": "stream",
          "text": [
            "\n",
            "List the person names occurring in the following texts.\n",
            "\n",
            "Text: \"David called Emma yesterday.\"\n",
            "Answer:\n",
            "\n",
            "\"David called Emma yesterday.\"\n",
            "\n",
            "Text: \"David spoke to Emma about his plans.\"\n",
            "\n",
            "Answer:\n",
            "\n",
            "\"David spoke to\n"
          ]
        },
        {
          "name": "stderr",
          "output_type": "stream",
          "text": [
            "Setting `pad_token_id` to `eos_token_id`:50256 for open-end generation.\n"
          ]
        },
        {
          "name": "stdout",
          "output_type": "stream",
          "text": [
            "\n",
            "List the person names occurring in the following texts.\n",
            "\n",
            "Text: \"John met Mary at the station.\"\n",
            "Answer: John, Mary\n",
            "\n",
            "Text: \"David called Emma yesterday.\"\n",
            "Answer:\n",
            "\n",
            "\n",
            "Text: \"John went to the bank.\"\n",
            "\n",
            "Answer:\n",
            "\n",
            "\n",
            "Text: \"John went to the market this morning.\"\n",
            "\n",
            "Answer\n"
          ]
        },
        {
          "name": "stderr",
          "output_type": "stream",
          "text": [
            "Setting `pad_token_id` to `eos_token_id`:50256 for open-end generation.\n"
          ]
        },
        {
          "name": "stdout",
          "output_type": "stream",
          "text": [
            "\n",
            "List the person names occurring in the following texts.\n",
            "\n",
            "Text: \"John met Mary at the station.\"\n",
            "Answer: John, Mary\n",
            "\n",
            "Text: \"Peter and Susan are siblings.\"\n",
            "Answer: Peter, Susan\n",
            "\n",
            "Text: \"David called Emma yesterday.\"\n",
            "Answer:\n",
            "\n",
            "\n",
            "Text: \"David came to see me yesterday.\"\n",
            "\n",
            "Answer: David\n",
            "\n",
            "Text: \"Mary is married.\"\n",
            "\n",
            "Answer: Mary\n"
          ]
        },
        {
          "name": "stderr",
          "output_type": "stream",
          "text": [
            "Setting `pad_token_id` to `eos_token_id`:50256 for open-end generation.\n"
          ]
        },
        {
          "name": "stdout",
          "output_type": "stream",
          "text": [
            "\n",
            "This is a first grade math exam.\n",
            "\n",
            "Question: What is 11 + 22?\n",
            "Answer:\n",
            "\n",
            "\n",
            "This is a first grade math exam.\n",
            "\n",
            "Question: What is a square root of 4?\n",
            "\n",
            "Answer:\n",
            "\n",
            "\n",
            "This is a\n"
          ]
        },
        {
          "name": "stderr",
          "output_type": "stream",
          "text": [
            "Setting `pad_token_id` to `eos_token_id`:50256 for open-end generation.\n"
          ]
        },
        {
          "name": "stdout",
          "output_type": "stream",
          "text": [
            "\n",
            "This is a first grade math exam.\n",
            "\n",
            "Question: What is 14 + 13?\n",
            "Answer: 27\n",
            "\n",
            "Question: What is 11 + 22?\n",
            "Answer:\n",
            "\n",
            "\n",
            "I think I can't go any higher.\n",
            "\n",
            "Answer:\n",
            "\n",
            "\n",
            "I can't believe you just did that, because you're a mor\n",
            "\n",
            "This is a first grade math exam.\n",
            "\n",
            "Question: What is 14 + 13?\n",
            "Answer: 27\n",
            "\n",
            "Question: What is 20 + 15?\n",
            "Answer: 35\n",
            "\n",
            "Question: What is 11 + 22?\n",
            "Answer:\n",
            "\n",
            "\n",
            "Question: What is 12 + 13?\n",
            "\n",
            "Answer: 28\n",
            "\n",
            "Question: What is 17 + 12?\n",
            "\n",
            "Answer: 30\n",
            "\n"
          ]
        }
      ],
      "source": [
        "promptposornegzero = \"\"\"\n",
        "Do the following texts express a positive or negative sentiment?\n",
        "\n",
        "Text: \"I love this movie!\"\n",
        "Answer:\n",
        "\"\"\"\n",
        "promptposornegone = \"\"\"\n",
        "Do the following texts express a positive or negative sentiment?\n",
        "\n",
        "Text: \"This food is terrible.\"\n",
        "Answer: negative\n",
        "\n",
        "Text: \"The service was slow and disappointing.\"\n",
        "Answer:\n",
        "\n",
        "\"\"\"\n",
        "promptposornegtwo = \"\"\"\n",
        "Do the following texts express a positive or negative sentiment?\n",
        "\n",
        "Text: \"This food is terrible.\"\n",
        "Answer: negative\n",
        "\n",
        "Text: \"What a wonderful day!\"\n",
        "Answer: positive\n",
        "\n",
        "Text: \"The service was slow and disappointing.\"\n",
        "Answer:\n",
        "\"\"\"\n",
        "promptnamezero = \"\"\"\n",
        "List the person names occurring in the following texts.\n",
        "\n",
        "Text: \"David called Emma yesterday.\"\n",
        "Answer:\n",
        "\"\"\"\n",
        "promptnameone = \"\"\"\n",
        "List the person names occurring in the following texts.\n",
        "\n",
        "Text: \"John met Mary at the station.\"\n",
        "Answer: John, Mary\n",
        "\n",
        "Text: \"David called Emma yesterday.\"\n",
        "Answer:\n",
        "\n",
        "\"\"\"\n",
        "promptnametwo = \"\"\"\n",
        "List the person names occurring in the following texts.\n",
        "\n",
        "Text: \"John met Mary at the station.\"\n",
        "Answer: John, Mary\n",
        "\n",
        "Text: \"Peter and Susan are siblings.\"\n",
        "Answer: Peter, Susan\n",
        "\n",
        "Text: \"David called Emma yesterday.\"\n",
        "Answer:\n",
        "\n",
        "\"\"\"\n",
        "promptaddzero = \"\"\"\n",
        "This is a first grade math exam.\n",
        "\n",
        "Question: What is 11 + 22?\n",
        "Answer:\n",
        "\n",
        "\"\"\"\n",
        "promptaddone = \"\"\"\n",
        "This is a first grade math exam.\n",
        "\n",
        "Question: What is 14 + 13?\n",
        "Answer: 27\n",
        "\n",
        "Question: What is 11 + 22?\n",
        "Answer:\n",
        "\n",
        "\"\"\"\n",
        "promptaddtwo = \"\"\"\n",
        "This is a first grade math exam.\n",
        "\n",
        "Question: What is 14 + 13?\n",
        "Answer: 27\n",
        "\n",
        "Question: What is 20 + 15?\n",
        "Answer: 35\n",
        "\n",
        "Question: What is 11 + 22?\n",
        "Answer:\n",
        "\n",
        "\"\"\"\n",
        "\n",
        "output1 = generator(promptposornegzero, max_new_tokens=30)\n",
        "print(output1[0][\"generated_text\"])\n",
        "output2 = generator(promptposornegone, max_new_tokens=30)\n",
        "print(output2[0][\"generated_text\"])\n",
        "output3 = generator(promptposornegtwo, max_new_tokens=30)\n",
        "print(output3[0][\"generated_text\"])\n",
        "output4 = generator(promptnamezero, max_new_tokens=30)\n",
        "print(output4[0][\"generated_text\"])\n",
        "output5 = generator(promptnameone, max_new_tokens=30)\n",
        "print(output5[0][\"generated_text\"])\n",
        "output6 = generator(promptnametwo, max_new_tokens=30)\n",
        "print(output6[0][\"generated_text\"])\n",
        "output7 = generator(promptaddzero, max_new_tokens=30)\n",
        "print(output7[0][\"generated_text\"])\n",
        "output8 = generator(promptaddone, max_new_tokens=30)\n",
        "print(output8[0][\"generated_text\"])\n",
        "output9 = generator(promptaddtwo, max_new_tokens=30)\n",
        "print(output9[0][\"generated_text\"])"
      ]
    },
    {
      "cell_type": "markdown",
      "metadata": {},
      "source": [
        "**Submit this exercise by submitting your code and your answers to the above questions as comments on the MOOC platform. You can return this Jupyter notebook (.ipynb) or .py, .R, etc depending on your programming preferences.**"
      ]
    }
  ],
  "metadata": {
    "colab": {
      "authorship_tag": "ABX9TyMPTKW2dgboQJpXpHYIBCHp",
      "include_colab_link": true,
      "provenance": []
    },
    "kernelspec": {
      "display_name": "Python 3",
      "name": "python3"
    },
    "language_info": {
      "codemirror_mode": {
        "name": "ipython",
        "version": 3
      },
      "file_extension": ".py",
      "mimetype": "text/x-python",
      "name": "python",
      "nbconvert_exporter": "python",
      "pygments_lexer": "ipython3",
      "version": "3.11.4"
    }
  },
  "nbformat": 4,
  "nbformat_minor": 0
}
